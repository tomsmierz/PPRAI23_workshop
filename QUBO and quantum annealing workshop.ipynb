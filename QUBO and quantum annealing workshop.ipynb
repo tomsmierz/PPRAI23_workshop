{
 "cells": [
  {
   "cell_type": "markdown",
   "id": "8d76601a",
   "metadata": {
    "slideshow": {
     "slide_type": "slide"
    }
   },
   "source": [
    "# Welcome to \"QUBO and quantum annealing\" workshop\n",
    "### part of \"Quantum Machine Learning Cooperative Study Group Meeting\""
   ]
  },
  {
   "cell_type": "markdown",
   "id": "186ff8ce",
   "metadata": {
    "slideshow": {
     "slide_type": "slide"
    }
   },
   "source": [
    "# This workshop is financed from: \"Sonata Bis: Simulations of physical systems with near-term annealing technology\" and \"EuroHPC PL\"\n",
    "\n",
    "#### More about those project later"
   ]
  },
  {
   "cell_type": "markdown",
   "id": "511a2343",
   "metadata": {
    "slideshow": {
     "slide_type": "slide"
    }
   },
   "source": [
    "# QUBO"
   ]
  },
  {
   "cell_type": "markdown",
   "id": "1eeb2458",
   "metadata": {
    "slideshow": {
     "slide_type": "slide"
    }
   },
   "source": [
    "# Lets create free dwave leap account!\n",
    "[Click here](https://cloud.dwavesys.com/leap/login/?next=/leap/)"
   ]
  },
  {
   "cell_type": "markdown",
   "id": "11eab179",
   "metadata": {},
   "source": [
    "# How to setup local \n",
    "1. Create\n",
    "2. \n",
    "3. "
   ]
  },
  {
   "cell_type": "code",
   "execution_count": 1,
   "id": "ddc12b69",
   "metadata": {
    "slideshow": {
     "slide_type": "slide"
    }
   },
   "outputs": [
    {
     "name": "stdout",
     "output_type": "stream",
     "text": [
      "Requirement already satisfied: dwave-ocean-sdk in c:\\users\\tsmierzchalski\\anaconda3\\envs\\workshop\\lib\\site-packages (6.3.0)\n",
      "Requirement already satisfied: dimod==0.12.3 in c:\\users\\tsmierzchalski\\anaconda3\\envs\\workshop\\lib\\site-packages (from dwave-ocean-sdk) (0.12.3)\n",
      "Requirement already satisfied: dwave-cloud-client==0.10.4 in c:\\users\\tsmierzchalski\\anaconda3\\envs\\workshop\\lib\\site-packages (from dwave-ocean-sdk) (0.10.4)\n",
      "Requirement already satisfied: dwave-greedy==0.3.0 in c:\\users\\tsmierzchalski\\anaconda3\\envs\\workshop\\lib\\site-packages (from dwave-ocean-sdk) (0.3.0)\n",
      "Requirement already satisfied: dwave-hybrid==0.6.10 in c:\\users\\tsmierzchalski\\anaconda3\\envs\\workshop\\lib\\site-packages (from dwave-ocean-sdk) (0.6.10)\n",
      "Requirement already satisfied: dwave-inspector==0.4.1 in c:\\users\\tsmierzchalski\\anaconda3\\envs\\workshop\\lib\\site-packages (from dwave-ocean-sdk) (0.4.1)\n",
      "Requirement already satisfied: dwave-neal==0.6.0 in c:\\users\\tsmierzchalski\\anaconda3\\envs\\workshop\\lib\\site-packages (from dwave-ocean-sdk) (0.6.0)\n",
      "Requirement already satisfied: dwave-networkx==0.8.13 in c:\\users\\tsmierzchalski\\anaconda3\\envs\\workshop\\lib\\site-packages (from dwave-ocean-sdk) (0.8.13)\n",
      "Requirement already satisfied: dwave-preprocessing==0.5.4 in c:\\users\\tsmierzchalski\\anaconda3\\envs\\workshop\\lib\\site-packages (from dwave-ocean-sdk) (0.5.4)\n",
      "Requirement already satisfied: dwave-samplers==1.0.0 in c:\\users\\tsmierzchalski\\anaconda3\\envs\\workshop\\lib\\site-packages (from dwave-ocean-sdk) (1.0.0)\n",
      "Requirement already satisfied: dwave-system==1.18.0 in c:\\users\\tsmierzchalski\\anaconda3\\envs\\workshop\\lib\\site-packages (from dwave-ocean-sdk) (1.18.0)\n",
      "Requirement already satisfied: dwave-tabu==0.5.0 in c:\\users\\tsmierzchalski\\anaconda3\\envs\\workshop\\lib\\site-packages (from dwave-ocean-sdk) (0.5.0)\n",
      "Requirement already satisfied: dwavebinarycsp==0.2.0 in c:\\users\\tsmierzchalski\\anaconda3\\envs\\workshop\\lib\\site-packages (from dwave-ocean-sdk) (0.2.0)\n",
      "Requirement already satisfied: minorminer==0.2.11 in c:\\users\\tsmierzchalski\\anaconda3\\envs\\workshop\\lib\\site-packages (from dwave-ocean-sdk) (0.2.11)\n",
      "Requirement already satisfied: penaltymodel==1.0.2 in c:\\users\\tsmierzchalski\\anaconda3\\envs\\workshop\\lib\\site-packages (from dwave-ocean-sdk) (1.0.2)\n",
      "Requirement already satisfied: pyqubo==1.4.0 in c:\\users\\tsmierzchalski\\anaconda3\\envs\\workshop\\lib\\site-packages (from dwave-ocean-sdk) (1.4.0)\n",
      "Requirement already satisfied: numpy<2.0.0,>=1.17.3 in c:\\users\\tsmierzchalski\\anaconda3\\envs\\workshop\\lib\\site-packages (from dimod==0.12.3->dwave-ocean-sdk) (1.24.2)\n",
      "Requirement already satisfied: requests[socks]>=2.18 in c:\\users\\tsmierzchalski\\anaconda3\\envs\\workshop\\lib\\site-packages (from dwave-cloud-client==0.10.4->dwave-ocean-sdk) (2.28.2)\n",
      "Requirement already satisfied: pydantic>=1.7.3 in c:\\users\\tsmierzchalski\\anaconda3\\envs\\workshop\\lib\\site-packages (from dwave-cloud-client==0.10.4->dwave-ocean-sdk) (1.10.7)\n",
      "Requirement already satisfied: homebase>=1.0 in c:\\users\\tsmierzchalski\\anaconda3\\envs\\workshop\\lib\\site-packages (from dwave-cloud-client==0.10.4->dwave-ocean-sdk) (1.0.1)\n",
      "Requirement already satisfied: click>=7.0 in c:\\users\\tsmierzchalski\\anaconda3\\envs\\workshop\\lib\\site-packages (from dwave-cloud-client==0.10.4->dwave-ocean-sdk) (8.1.3)\n",
      "Requirement already satisfied: python-dateutil>=2.7 in c:\\users\\tsmierzchalski\\anaconda3\\envs\\workshop\\lib\\site-packages (from dwave-cloud-client==0.10.4->dwave-ocean-sdk) (2.8.2)\n",
      "Requirement already satisfied: plucky>=0.4.3 in c:\\users\\tsmierzchalski\\anaconda3\\envs\\workshop\\lib\\site-packages (from dwave-cloud-client==0.10.4->dwave-ocean-sdk) (0.4.3)\n",
      "Requirement already satisfied: diskcache>=5.2.1 in c:\\users\\tsmierzchalski\\anaconda3\\envs\\workshop\\lib\\site-packages (from dwave-cloud-client==0.10.4->dwave-ocean-sdk) (5.6.1)\n",
      "Requirement already satisfied: networkx in c:\\users\\tsmierzchalski\\anaconda3\\envs\\workshop\\lib\\site-packages (from dwave-hybrid==0.6.10->dwave-ocean-sdk) (2.8.8)\n",
      "Requirement already satisfied: Flask>=2.2 in c:\\users\\tsmierzchalski\\anaconda3\\envs\\workshop\\lib\\site-packages (from dwave-inspector==0.4.1->dwave-ocean-sdk) (2.2.3)\n",
      "Requirement already satisfied: scipy>=1.7.3 in c:\\users\\tsmierzchalski\\anaconda3\\envs\\workshop\\lib\\site-packages (from dwave-system==1.18.0->dwave-ocean-sdk) (1.10.1)\n",
      "Requirement already satisfied: fasteners in c:\\users\\tsmierzchalski\\anaconda3\\envs\\workshop\\lib\\site-packages (from minorminer==0.2.11->dwave-ocean-sdk) (0.18)\n",
      "Requirement already satisfied: rectangle-packer>=2.0.1 in c:\\users\\tsmierzchalski\\anaconda3\\envs\\workshop\\lib\\site-packages (from minorminer==0.2.11->dwave-ocean-sdk) (2.0.1)\n",
      "Requirement already satisfied: Deprecated>=1.2.12 in c:\\users\\tsmierzchalski\\anaconda3\\envs\\workshop\\lib\\site-packages (from pyqubo==1.4.0->dwave-ocean-sdk) (1.2.13)\n",
      "Requirement already satisfied: six>=1.15.0 in c:\\users\\tsmierzchalski\\anaconda3\\envs\\workshop\\lib\\site-packages (from pyqubo==1.4.0->dwave-ocean-sdk) (1.16.0)\n",
      "Requirement already satisfied: colorama in c:\\users\\tsmierzchalski\\anaconda3\\envs\\workshop\\lib\\site-packages (from click>=7.0->dwave-cloud-client==0.10.4->dwave-ocean-sdk) (0.4.6)\n",
      "Requirement already satisfied: wrapt<2,>=1.10 in c:\\users\\tsmierzchalski\\anaconda3\\envs\\workshop\\lib\\site-packages (from Deprecated>=1.2.12->pyqubo==1.4.0->dwave-ocean-sdk) (1.15.0)\n",
      "Requirement already satisfied: Werkzeug>=2.2.2 in c:\\users\\tsmierzchalski\\anaconda3\\envs\\workshop\\lib\\site-packages (from Flask>=2.2->dwave-inspector==0.4.1->dwave-ocean-sdk) (2.2.3)\n",
      "Requirement already satisfied: Jinja2>=3.0 in c:\\users\\tsmierzchalski\\anaconda3\\envs\\workshop\\lib\\site-packages (from Flask>=2.2->dwave-inspector==0.4.1->dwave-ocean-sdk) (3.1.2)\n",
      "Requirement already satisfied: itsdangerous>=2.0 in c:\\users\\tsmierzchalski\\anaconda3\\envs\\workshop\\lib\\site-packages (from Flask>=2.2->dwave-inspector==0.4.1->dwave-ocean-sdk) (2.1.2)\n",
      "Requirement already satisfied: typing-extensions>=4.2.0 in c:\\users\\tsmierzchalski\\anaconda3\\envs\\workshop\\lib\\site-packages (from pydantic>=1.7.3->dwave-cloud-client==0.10.4->dwave-ocean-sdk) (4.5.0)\n",
      "Requirement already satisfied: charset-normalizer<4,>=2 in c:\\users\\tsmierzchalski\\anaconda3\\envs\\workshop\\lib\\site-packages (from requests[socks]>=2.18->dwave-cloud-client==0.10.4->dwave-ocean-sdk) (3.1.0)\n",
      "Requirement already satisfied: idna<4,>=2.5 in c:\\users\\tsmierzchalski\\anaconda3\\envs\\workshop\\lib\\site-packages (from requests[socks]>=2.18->dwave-cloud-client==0.10.4->dwave-ocean-sdk) (3.4)\n",
      "Requirement already satisfied: urllib3<1.27,>=1.21.1 in c:\\users\\tsmierzchalski\\anaconda3\\envs\\workshop\\lib\\site-packages (from requests[socks]>=2.18->dwave-cloud-client==0.10.4->dwave-ocean-sdk) (1.26.15)\n",
      "Requirement already satisfied: certifi>=2017.4.17 in c:\\users\\tsmierzchalski\\anaconda3\\envs\\workshop\\lib\\site-packages (from requests[socks]>=2.18->dwave-cloud-client==0.10.4->dwave-ocean-sdk) (2022.12.7)\n",
      "Requirement already satisfied: PySocks!=1.5.7,>=1.5.6 in c:\\users\\tsmierzchalski\\anaconda3\\envs\\workshop\\lib\\site-packages (from requests[socks]>=2.18->dwave-cloud-client==0.10.4->dwave-ocean-sdk) (1.7.1)\n",
      "Requirement already satisfied: MarkupSafe>=2.0 in c:\\users\\tsmierzchalski\\anaconda3\\envs\\workshop\\lib\\site-packages (from Jinja2>=3.0->Flask>=2.2->dwave-inspector==0.4.1->dwave-ocean-sdk) (2.1.1)\n"
     ]
    }
   ],
   "source": [
    "# Lest install all required packages\n",
    "import sys\n",
    "!{sys.executable} -m pip install dwave-ocean-sdk"
   ]
  },
  {
   "cell_type": "code",
   "execution_count": 2,
   "id": "e50e3c21",
   "metadata": {
    "slideshow": {
     "slide_type": "fragment"
    }
   },
   "outputs": [
    {
     "name": "stdout",
     "output_type": "stream",
     "text": [
      "C:\\Users\\tsmierzchalski\n"
     ]
    }
   ],
   "source": []
  }
 ],
 "metadata": {
  "celltoolbar": "Slideshow",
  "kernelspec": {
   "display_name": "Python [conda env:workshop]",
   "language": "python",
   "name": "conda-env-workshop-py"
  },
  "language_info": {
   "codemirror_mode": {
    "name": "ipython",
    "version": 3
   },
   "file_extension": ".py",
   "mimetype": "text/x-python",
   "name": "python",
   "nbconvert_exporter": "python",
   "pygments_lexer": "ipython3",
   "version": "3.11.2"
  }
 },
 "nbformat": 4,
 "nbformat_minor": 5
}
