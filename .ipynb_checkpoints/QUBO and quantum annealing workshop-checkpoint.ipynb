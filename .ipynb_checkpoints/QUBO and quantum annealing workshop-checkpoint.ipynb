{
 "cells": [
  {
   "cell_type": "markdown",
   "id": "17d37fcd",
   "metadata": {},
   "source": [
    "![IITIS](pictures/logoIITISduze.png)"
   ]
  },
  {
   "cell_type": "markdown",
   "id": "8d76601a",
   "metadata": {
    "slideshow": {
     "slide_type": "slide"
    }
   },
   "source": [
    "# Welcome to \"QUBO and quantum annealing\" workshop\n",
    "## part of \"Quantum Machine Learning Cooperative Study Group Meeting\"\n",
    "\n",
    "Welcome to our workshop on \"QUBO and quantum annealing\"! In this workshop, we will explore the fascinating world of quantum computing and its potential applications in solving complex optimization problems using the quadratic unconstrained binary optimization (QUBO) model. We will also delve into the concept of quantum annealing, a computational approach that takes advantage of the quantum nature of particles to efficiently search for the optimal solution of a given problem. Through interactive discussions and hands-on activities, we aim to provide participants with a fundamental understanding of QUBO and quantum annealing and its practical implications in various fields such as logistics, finance, and healthcare. Whether you are a quantum computing enthusiast or simply curious about this cutting-edge technology, we invite you to join us on this exciting journey!"
   ]
  },
  {
   "cell_type": "markdown",
   "id": "186ff8ce",
   "metadata": {
    "slideshow": {
     "slide_type": "slide"
    }
   },
   "source": [
    "## This workshop is financed from projects: \"Sonata Bis: Simulations of physical systems with near-term annealing technology\" and \"EuroHPC PL\" realised at Institute of Theoretical and Applied Informatics, Polish Academy of Sciences\n",
    "\n",
    "\n",
    "\n",
    "#### More about those project later"
   ]
  },
  {
   "cell_type": "markdown",
   "id": "511a2343",
   "metadata": {
    "slideshow": {
     "slide_type": "slide"
    }
   },
   "source": [
    "# Little theory\n",
    "\n",
    "## What is QUBO\n",
    "\n",
    "## Why do we care"
   ]
  },
  {
   "cell_type": "markdown",
   "id": "1eeb2458",
   "metadata": {
    "slideshow": {
     "slide_type": "slide"
    }
   },
   "source": [
    "# Lets create free dwave leap account!\n",
    "[Click here](https://cloud.dwavesys.com/leap/login/?next=/leap/)\n",
    "There two major ways to interact with Dwaves quantum annealer. We can use cloud IDE workspace or create local emvironment."
   ]
  },
  {
   "cell_type": "markdown",
   "id": "4242df39",
   "metadata": {},
   "source": []
  },
  {
   "cell_type": "markdown",
   "id": "5dca281f",
   "metadata": {},
   "source": [
    "# How to use IDE workspace\n",
    "\n",
    "1. Create empty GitHub repository where you will store your work.\n",
    "    * **Important** Repository must be public, or you may simply grant gitpod acces to it.\n",
    "2. Now simply navigate to \"IDE workspace\" in your Leap frontpage.\n",
    "\n",
    "![IDE workspace](pictures/IDE_workspace1.png)\n",
    "\n",
    "3. There you simply click \"New Workspace\" and provide ling to previously created repository.\n"
   ]
  },
  {
   "cell_type": "markdown",
   "id": "11eab179",
   "metadata": {},
   "source": [
    "# How to setup local \n",
    "1. Create a local environment (conda, pyenv, ect.)\n",
    "2. Install Ocean SDK (software development kit)\n",
    "    > pip install dwave-ocean-sdk\n",
    "3. Run \n",
    "    > dwave setup\n",
    "    \n",
    "    * It will ask to install non-open-source tools. It is recommended to install `D-Wave Problem Inspector` and `D-Wave Drivers`\n",
    "    * Profile can be left with default settings\n",
    "    * **Imortant** Now you can enter autentication token. You can find it in your account page on Dwave Leap.\n",
    "    ![API token location](pictures/API_token.png)\n",
    "    \n",
    "## Now we are ready to go!"
   ]
  },
  {
   "cell_type": "markdown",
   "id": "d2db8fa1",
   "metadata": {
    "slideshow": {
     "slide_type": "slide"
    }
   },
   "source": [
    "# Using Dwave Ocean\n",
    "\n",
    "Lets start with simple example!"
   ]
  },
  {
   "cell_type": "code",
   "execution_count": 2,
   "id": "e50e3c21",
   "metadata": {
    "slideshow": {
     "slide_type": "fragment"
    }
   },
   "outputs": [
    {
     "name": "stdout",
     "output_type": "stream",
     "text": [
      "C:\\Users\\tsmierzchalski\n"
     ]
    }
   ],
   "source": [
    "# Start by importing relevan packages\n",
    "from dwave.s"
   ]
  }
 ],
 "metadata": {
  "kernelspec": {
   "display_name": "Python [conda env:workshop]",
   "language": "python",
   "name": "conda-env-workshop-py"
  },
  "language_info": {
   "codemirror_mode": {
    "name": "ipython",
    "version": 3
   },
   "file_extension": ".py",
   "mimetype": "text/x-python",
   "name": "python",
   "nbconvert_exporter": "python",
   "pygments_lexer": "ipython3",
   "version": "3.11.3"
  }
 },
 "nbformat": 4,
 "nbformat_minor": 5
}
